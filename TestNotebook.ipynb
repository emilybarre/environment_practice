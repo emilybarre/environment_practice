{
 "cells": [
  {
   "cell_type": "code",
   "execution_count": 1,
   "id": "approved-syntax",
   "metadata": {},
   "outputs": [
    {
     "name": "stdout",
     "output_type": "stream",
     "text": [
      "Hello\n"
     ]
    }
   ],
   "source": [
    "x = \"Hello\"\n",
    "print(x)"
   ]
  },
  {
   "cell_type": "code",
   "execution_count": 2,
   "id": "featured-detective",
   "metadata": {},
   "outputs": [
    {
     "name": "stdout",
     "output_type": "stream",
     "text": [
      "I typed Hello before\n"
     ]
    }
   ],
   "source": [
    "print(\"I typed {} before\".format(x))"
   ]
  },
  {
   "cell_type": "code",
   "execution_count": 4,
   "id": "pressed-latitude",
   "metadata": {},
   "outputs": [
    {
     "name": "stdout",
     "output_type": "stream",
     "text": [
      "H\n",
      "e\n",
      "l\n",
      "l\n",
      "o\n",
      "yes I said hello\n"
     ]
    }
   ],
   "source": [
    "for i in x: \n",
    "    print(i)\n",
    "if x == \"Hello\":\n",
    "    print(\"yes I said hello\")"
   ]
  },
  {
   "cell_type": "markdown",
   "id": "local-course",
   "metadata": {},
   "source": [
    "### Classwork\n",
    "This is Tuesday's class"
   ]
  },
  {
   "cell_type": "code",
   "execution_count": null,
   "id": "prerequisite-dealer",
   "metadata": {},
   "outputs": [],
   "source": []
  }
 ],
 "metadata": {
  "kernelspec": {
   "display_name": "Python 3",
   "language": "python",
   "name": "python3"
  },
  "language_info": {
   "codemirror_mode": {
    "name": "ipython",
    "version": 3
   },
   "file_extension": ".py",
   "mimetype": "text/x-python",
   "name": "python",
   "nbconvert_exporter": "python",
   "pygments_lexer": "ipython3",
   "version": "3.8.2"
  }
 },
 "nbformat": 4,
 "nbformat_minor": 5
}
